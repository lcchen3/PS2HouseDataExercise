{
 "cells": [
  {
   "cell_type": "code",
   "execution_count": 96,
   "id": "4aec5e5a",
   "metadata": {},
   "outputs": [
    {
     "name": "stdout",
     "output_type": "stream",
     "text": [
      "(1460, 81)\n",
      "(1460, 35)\n"
     ]
    }
   ],
   "source": [
    "#import House sales data\n",
    "import pandas as pd\n",
    "import numpy as np\n",
    "import matplotlib.pyplot as plt\n",
    "\n",
    "data = pd.read_csv('train.csv')\n",
    "df = pd.DataFrame(data)\n",
    "print(df.shape)\n",
    "\n",
    "#remove non-numeric column data\n",
    "num = df.select_dtypes(include=[np.number]).dropna(axis=1) \n",
    "print(num.shape)"
   ]
  },
  {
   "cell_type": "code",
   "execution_count": 98,
   "id": "074a6b6e",
   "metadata": {},
   "outputs": [
    {
     "name": "stdout",
     "output_type": "stream",
     "text": [
      "34\n"
     ]
    }
   ],
   "source": [
    "#build model\n",
    "i_corr = num.corr()['SalePrice'].sort_values(ascending=False)[1:num.size]\n",
    "print(i_corr.size)\n",
    "#check if absolute value changes order of most correlated\n",
    "abs_corr = abs(num.corr()['SalePrice']).sort_values(ascending=False)[1:40]\n",
    "#print(abs_corr)\n",
    "\n",
    "# get IDs of most correlated\n",
    "# cols = i_corr.index[0:10] "
   ]
  },
  {
   "cell_type": "code",
   "execution_count": 103,
   "id": "c039a53d",
   "metadata": {},
   "outputs": [
    {
     "name": "stdout",
     "output_type": "stream",
     "text": [
      "1460\n",
      "1435\n",
      "R^2 is: 0.8088471172804269\n"
     ]
    }
   ],
   "source": [
    "#assess model, deploy model\n",
    "\n",
    "#for i in range(1,37): #check variables to see if they improve - kept improving\n",
    "cols = i_corr.index[0:i_corr.size]\n",
    "print(len(num))\n",
    "\n",
    "#create data set for model training\n",
    "X = num[cols]\n",
    "X = X[0:len(num)-25]\n",
    "Y = num['SalePrice'][0:len(num)-25]\n",
    "print(len(Y))\n",
    "\n",
    "#create model\n",
    "from sklearn import linear_model\n",
    "lr = linear_model.LinearRegression()\n",
    "model = lr.fit(X, Y)\n",
    "predictions = model.predict(X)\n",
    "print(f\"R^2 is: {model.score(X,Y)}\")\n"
   ]
  },
  {
   "cell_type": "code",
   "execution_count": 105,
   "id": "241f198e",
   "metadata": {},
   "outputs": [
    {
     "name": "stdout",
     "output_type": "stream",
     "text": [
      "(25, 34)\n"
     ]
    },
    {
     "data": {
      "text/plain": [
       "<matplotlib.collections.PathCollection at 0x1c1b876e250>"
      ]
     },
     "execution_count": 105,
     "metadata": {},
     "output_type": "execute_result"
    },
    {
     "data": {
      "image/png": "[encoded data removed]",
      "text/plain": [
       "<Figure size 432x288 with 1 Axes>"
      ]
     },
     "metadata": {
      "needs_background": "light"
     },
     "output_type": "display_data"
    }
   ],
   "source": [
    "import matplotlib.pyplot as plt\n",
    "#plt.scatter(predictions, Y)\n",
    "\n",
    "#check on remaining 24 rows\n",
    "tester = num[cols][len(num)-25:len(num)]\n",
    "print(tester.shape)\n",
    "\n",
    "tester_y = num['SalePrice'][len(num)-25:len(num)]\n",
    "test_train = model.predict(tester)\n",
    "plt.scatter(test_train,tester_y)"
   ]
  },
  {
   "cell_type": "code",
   "execution_count": 106,
   "id": "abdaf5d5",
   "metadata": {},
   "outputs": [
    {
     "name": "stdout",
     "output_type": "stream",
     "text": [
      "(460, 34)\n"
     ]
    },
    {
     "data": {
      "text/plain": [
       "(array([ 15., 114., 153., 121.,  44.,   9.,   2.,   1.,   0.,   1.]),\n",
       " array([  3709.58224802,  67066.65781135, 130423.73337469, 193780.80893803,\n",
       "        257137.88450136, 320494.9600647 , 383852.03562803, 447209.11119137,\n",
       "        510566.1867547 , 573923.26231804, 637280.33788137]),\n",
       " <BarContainer object of 10 artists>)"
      ]
     },
     "execution_count": 106,
     "metadata": {},
     "output_type": "execute_result"
    },
    {
     "data": {
      "image/png": "[encoded data removed]",
      "text/plain": [
       "<Figure size 432x288 with 1 Axes>"
      ]
     },
     "metadata": {
      "needs_background": "light"
     },
     "output_type": "display_data"
    }
   ],
   "source": [
    "psetData = pd.read_csv('test.csv')\n",
    "pset = pd.DataFrame(psetData)\n",
    "\n",
    "#remove non-numeric columns and log transform\n",
    "pset2 = pset.select_dtypes(include=[np.number])[cols].dropna(axis=1)\n",
    "print(pset2.shape)\n",
    "tryit = model.predict(pset2)\n",
    "\n",
    "#create output dataframe\n",
    "out = pd.DataFrame(pset['Id'])\n",
    "out = out.assign(SalePrice = tryit)\n",
    "\n",
    "out.to_csv(\"C:/Users/Laura C Chen/Desktop/1.00/PS2HouseDataExercise/predicted_prices.csv\",index=False)\n",
    "                \n",
    "#check histogram\n",
    "plt.hist(tryit)"
   ]
  }
 ],
 "metadata": {
  "kernelspec": {
   "display_name": "Python 3 (ipykernel)",
   "language": "python",
   "name": "python3"
  },
  "language_info": {
   "codemirror_mode": {
    "name": "ipython",
    "version": 3
   },
   "file_extension": ".py",
   "mimetype": "text/x-python",
   "name": "python",
   "nbconvert_exporter": "python",
   "pygments_lexer": "ipython3",
   "version": "3.9.7"
  }
 },
 "nbformat": 4,
 "nbformat_minor": 5
}
